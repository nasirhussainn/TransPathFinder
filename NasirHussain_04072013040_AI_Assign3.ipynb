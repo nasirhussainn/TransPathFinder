{
 "cells": [
  {
   "cell_type": "markdown",
   "id": "c71dec61",
   "metadata": {},
   "source": [
    "<center>\n",
    "<h2 style=\"color:blue;font-size:30px;\">Artificial Intelligence CS-414</h2>\n",
    "<h3 style=\"color:purple\">Assignment 3</h3>\n",
    " </center>\n",
    "\n",
    "<br>"
   ]
  },
  {
   "cell_type": "markdown",
   "id": "5db0f9cc",
   "metadata": {},
   "source": [
    "<h3 style=\"color:purple\">Problem 1.</h3>\n",
    "<h4 style=\"color:green\">Transportation Problem</h4>\n",
    "<p>We have as street with blocks numbered from 1 to n. Walking from s to s+1 takes 1 minute. Running from s to s+3 takes 1.5minutes. Taking a magic tram from s to 2s takes 2 minutes. How to travel from 1 to n in the least time?\n",
    "Apply Depth first search, breadth first search, dynamic programming and uniform cost search to find a solution. You can assume costs to zero and constants where deemed necessary.</p>"
   ]
  },
  {
   "cell_type": "code",
   "execution_count": 1,
   "id": "6395ae84",
   "metadata": {},
   "outputs": [],
   "source": [
    "class TransportationProblem(object):\n",
    "    def __init__(self, N, weights=None):\n",
    "        self.N = N\n",
    "        self.weights = weights\n",
    "    def startState(self):\n",
    "        return 1\n",
    "    def isEnd(self, state):\n",
    "        return state == self.N\n",
    "    def succAndCost(self, state):\n",
    "        result = []\n",
    "        if self.weights is not None:\n",
    "            if state+1<=self.N:\n",
    "                result.append(('walk', state+1, self.weights['walk']))\n",
    "            if state+3<=self.N:\n",
    "                result.append(('jump', state+(1.5), self.weights['jump']))\n",
    "            if state*2<=self.N:\n",
    "                result.append(('tram', state*2, self.weights['tram']))\n",
    "        else: \n",
    "            if state + 1 <= self.N:\n",
    "                result.append(('walk', state + 1, 1))\n",
    "            if state + 3 <= self.N:\n",
    "                result.append(('jump', state + 1.5, 1.5))\n",
    "            if state * 2 <= self.N:\n",
    "                result.append(('tram', state * 2, 2))\n",
    "            \n",
    "        return result\n",
    "    def successors(self, state):\n",
    "        result = []\n",
    "        if state + 1 <= self.N:\n",
    "            result.append(('walk', state + 1))\n",
    "        if state + 3 <= self.N:\n",
    "            result.append(('jump', state + 1.5))\n",
    "        if state * 2 <= self.N:\n",
    "            result.append(('tram', state * 2))\n",
    "        return result\n"
   ]
  },
  {
   "cell_type": "code",
   "execution_count": 2,
   "id": "639a3887",
   "metadata": {},
   "outputs": [],
   "source": [
    "def printSolution(solution):\n",
    "    totalCost, history = solution\n",
    "    print('totalCost: {}'.format(totalCost))\n",
    "    for item in history:\n",
    "        print(item)"
   ]
  },
  {
   "cell_type": "markdown",
   "id": "b3ee45ac",
   "metadata": {},
   "source": [
    "<h4 style=\"color:orange\"><bold>i - BackTracking Search</bold></h4>"
   ]
  },
  {
   "cell_type": "code",
   "execution_count": 31,
   "id": "4f35119f",
   "metadata": {},
   "outputs": [],
   "source": [
    "def backtrackingSearch(problem):\n",
    "    best = {\n",
    "        'cost': float('+inf'),\n",
    "        'history': None\n",
    "    }\n",
    "    def recurse(state, history, totalCost):\n",
    "        if problem.isEnd(state):\n",
    "            if totalCost<best['cost']:\n",
    "                best['cost'] = totalCost\n",
    "                best['history'] = history\n",
    "            return\n",
    "        for action, newState, cost in problem.succAndCost(state):\n",
    "            recurse(newState, history+[(action, newState, cost)], totalCost+cost)\n",
    "    recurse(problem.startState(), history=[], totalCost=0)\n",
    "    return (best['cost'], best['history'])"
   ]
  },
  {
   "cell_type": "code",
   "execution_count": 32,
   "id": "d84d1be2",
   "metadata": {},
   "outputs": [
    {
     "name": "stdout",
     "output_type": "stream",
     "text": [
      "totalCost: 9\n",
      "('walk', 2, 1)\n",
      "('walk', 3, 1)\n",
      "('tram', 6, 2)\n",
      "('tram', 12, 2)\n",
      "('tram', 24, 2)\n",
      "('walk', 25, 1)\n"
     ]
    }
   ],
   "source": [
    "problem = TransportationProblem(N=25)\n",
    "printSolution(backtrackingSearch(problem))"
   ]
  },
  {
   "cell_type": "markdown",
   "id": "ef38601b",
   "metadata": {},
   "source": [
    "<br>\n",
    "<h4 style=\"color:orange\"><bold>ii - Dynamic Programming</bold></h4>"
   ]
  },
  {
   "cell_type": "code",
   "execution_count": 5,
   "id": "41b261bc",
   "metadata": {},
   "outputs": [],
   "source": [
    "def dynamicProgramming(problem):\n",
    "    cache = {}  \n",
    "    \n",
    "    def futureCost(state):\n",
    "        if problem.isEnd(state):\n",
    "            return 0, []\n",
    "        if state in cache:\n",
    "            return cache[state]\n",
    "        \n",
    "        successors = problem.succAndCost(state)\n",
    "\n",
    "        if not successors:\n",
    "            return float('inf'), []  \n",
    "        \n",
    "        min_cost = float('inf')\n",
    "        optimal_history = []\n",
    "        for action, newState, cost in successors:\n",
    "            cost_future, history_future = futureCost(newState)\n",
    "            if cost + cost_future < min_cost:\n",
    "                min_cost = cost + cost_future\n",
    "                optimal_history = [action] + history_future\n",
    "        \n",
    "        cache[state] = (min_cost, optimal_history)\n",
    "        return min_cost, optimal_history\n",
    "    \n",
    "    totalCost, history = futureCost(problem.startState())\n",
    "    return totalCost, history\n"
   ]
  },
  {
   "cell_type": "code",
   "execution_count": 6,
   "id": "7a4508db",
   "metadata": {},
   "outputs": [
    {
     "name": "stdout",
     "output_type": "stream",
     "text": [
      "totalCost: 9\n",
      "walk\n",
      "walk\n",
      "tram\n",
      "tram\n",
      "tram\n",
      "walk\n"
     ]
    }
   ],
   "source": [
    "printSolution(dynamicProgramming(problem))"
   ]
  },
  {
   "cell_type": "markdown",
   "id": "d4a5c655",
   "metadata": {},
   "source": [
    "<br>\n",
    "<h4 style=\"color:orange\"><bold>iii - Depth First Search</bold></h4>"
   ]
  },
  {
   "cell_type": "code",
   "execution_count": 7,
   "id": "e1af1375",
   "metadata": {},
   "outputs": [],
   "source": [
    "def dfs(problem):\n",
    "    best = {\n",
    "        'cost': float('inf'),\n",
    "        'history': None\n",
    "    }\n",
    "\n",
    "    def recurse(state, history, totalCost):\n",
    "        if problem.isEnd(state):\n",
    "            if totalCost < best['cost']:\n",
    "                best['cost'] = totalCost\n",
    "                best['history'] = history\n",
    "            return\n",
    "\n",
    "        for action, newState in problem.successors(state):\n",
    "            cost = 0  # Assuming cost of all edges as 0\n",
    "            recurse(newState, history + [(action, newState)], totalCost + cost)\n",
    "\n",
    "    recurse(problem.startState(), history=[], totalCost=0)\n",
    "    return (best['cost'], best['history'])"
   ]
  },
  {
   "cell_type": "code",
   "execution_count": 8,
   "id": "6894b1e9",
   "metadata": {},
   "outputs": [
    {
     "name": "stdout",
     "output_type": "stream",
     "text": [
      "totalCost: 0\n",
      "('walk', 2)\n",
      "('walk', 3)\n",
      "('walk', 4)\n",
      "('walk', 5)\n",
      "('walk', 6)\n",
      "('walk', 7)\n",
      "('walk', 8)\n",
      "('walk', 9)\n",
      "('walk', 10)\n",
      "('walk', 11)\n",
      "('walk', 12)\n",
      "('walk', 13)\n",
      "('walk', 14)\n",
      "('walk', 15)\n",
      "('walk', 16)\n",
      "('walk', 17)\n",
      "('walk', 18)\n",
      "('walk', 19)\n",
      "('walk', 20)\n",
      "('walk', 21)\n",
      "('walk', 22)\n",
      "('walk', 23)\n",
      "('walk', 24)\n",
      "('walk', 25)\n"
     ]
    }
   ],
   "source": [
    "N = 25 \n",
    "problem = TransportationProblem(N)\n",
    "solution = dfs(problem)\n",
    "printSolution(solution)"
   ]
  },
  {
   "cell_type": "markdown",
   "id": "e85eb98a",
   "metadata": {},
   "source": [
    "<br>\n",
    "<h4 style=\"color:orange\"><bold>iv - Breadth First Search</bold></h4>"
   ]
  },
  {
   "cell_type": "code",
   "execution_count": 9,
   "id": "df459b4d",
   "metadata": {},
   "outputs": [],
   "source": [
    "from collections import deque\n",
    "def bfs(problem):\n",
    "    best = {\n",
    "        'cost': float('inf'),\n",
    "        'history': None\n",
    "    }\n",
    "\n",
    "    queue = deque([(problem.startState(), [], 0)])  \n",
    "    \n",
    "    while queue:\n",
    "        state, history, totalCost = queue.popleft()\n",
    "\n",
    "        if problem.isEnd(state):\n",
    "            if totalCost < best['cost']:\n",
    "                best['cost'] = totalCost\n",
    "                best['history'] = history\n",
    "            continue\n",
    "\n",
    "        for action, newState in problem.successors(state):\n",
    "            cost = 4\n",
    "            queue.append((newState, history + [(action, newState)], totalCost + cost))\n",
    "\n",
    "    return (best['cost'], best['history'])"
   ]
  },
  {
   "cell_type": "code",
   "execution_count": 10,
   "id": "0bb60eac",
   "metadata": {},
   "outputs": [
    {
     "name": "stdout",
     "output_type": "stream",
     "text": [
      "totalCost: 24\n",
      "('walk', 2)\n",
      "('walk', 3)\n",
      "('tram', 6)\n",
      "('tram', 12)\n",
      "('tram', 24)\n",
      "('walk', 25)\n"
     ]
    }
   ],
   "source": [
    "N = 25\n",
    "problem = TransportationProblem(N)\n",
    "solution = bfs(problem)\n",
    "printSolution(solution)"
   ]
  },
  {
   "cell_type": "markdown",
   "id": "715f579d",
   "metadata": {},
   "source": [
    "<br>\n",
    "<h4 style=\"color:orange\"><bold>v - Uniform Cost Search</bold></h4>"
   ]
  },
  {
   "cell_type": "code",
   "execution_count": 41,
   "id": "dffddd4e",
   "metadata": {},
   "outputs": [],
   "source": [
    "import heapq\n",
    "def uniformCostSearch(problem):\n",
    "    best = {\n",
    "        'cost': float('inf'),\n",
    "        'history': None\n",
    "    }\n",
    "\n",
    "    priorityQueue = [] \n",
    "\n",
    "    heapq.heappush(priorityQueue, (0, problem.startState(), []))\n",
    "\n",
    "    while priorityQueue:\n",
    "        totalCost, state, history = heapq.heappop(priorityQueue)\n",
    "\n",
    "        if problem.isEnd(state):\n",
    "            if totalCost < best['cost']:\n",
    "                best['cost'] = totalCost\n",
    "                best['history'] = history\n",
    "            continue\n",
    "\n",
    "        for action, newState, cost in problem.succAndCost(state):\n",
    "            newTotalCost = totalCost + cost\n",
    "            heapq.heappush(priorityQueue, (newTotalCost, newState, history + [(action, newState)]))\n",
    "\n",
    "    return (best['cost'], best['history'])"
   ]
  },
  {
   "cell_type": "code",
   "execution_count": 42,
   "id": "0c5df939",
   "metadata": {},
   "outputs": [
    {
     "name": "stdout",
     "output_type": "stream",
     "text": [
      "totalCost: 9\n",
      "('walk', 2)\n",
      "('walk', 3)\n",
      "('tram', 6)\n",
      "('tram', 12)\n",
      "('tram', 24)\n",
      "('walk', 25)\n"
     ]
    }
   ],
   "source": [
    "N = 25\n",
    "problem = TransportationProblem(N)\n",
    "solution = uniformCostSearch(problem)\n",
    "printSolution(solution)"
   ]
  },
  {
   "cell_type": "markdown",
   "id": "4ab21646",
   "metadata": {},
   "source": [
    "<h3 style=\"color:purple\">Problem 2.</h3>\n",
    "<h4 style=\"color:green\">Markaz Location</h4>\n",
    "<p>Use google map to identify the location of Markaz of different sectors in Islamabad. (e.g I-8 Markaz, I-10 Markaz etc.) and draw a graph between these identified Markaz and label the edges with the distances representing the cost from one to another Markaz. Choose source and destination from these Markaz randomly from any sector I as source to any other sector F or E as destination. Assume a suitable heuristic function to estimate value of each Markaz to destination and the apply uniform and A* search algorithms to find minimum cost path from source to destination. Analyze both algorithm and identify which one is more efficient and why? Efficiency can be measured in terms of number of nodes/Markaz explored during the searching process.</p>"
   ]
  },
  {
   "cell_type": "code",
   "execution_count": 13,
   "id": "7860c356",
   "metadata": {},
   "outputs": [
    {
     "data": {
      "image/png": "[encoded data removed]",
      "text/plain": [
       "<Figure size 640x480 with 1 Axes>"
      ]
     },
     "metadata": {},
     "output_type": "display_data"
    }
   ],
   "source": [
    "import networkx as nx\n",
    "import matplotlib.pyplot as plt\n",
    "\n",
    "G = nx.Graph()\n",
    "\n",
    "markaz_locations = ['F-6', 'F-7', 'F-10', 'G-8', 'G-9', 'G-10', 'I-8', 'I-9', 'I-10']\n",
    "G.add_nodes_from(markaz_locations)\n",
    "\n",
    "edges = [\n",
    "    ('F-6', 'F-7', 2.3), ('F-6', 'F-10', 9.3), ('F-6', 'G-8', 7.2), ('F-6', 'G-9', 8.2), ('F-6', 'G-10', 10.0),\n",
    "    ('F-6', 'I-8', 10.0), ('F-6', 'I-9', 12.0), ('F-6', 'I-10', 14.0),\n",
    "    ('F-7', 'F-6', 2.3), ('F-7', 'F-10', 7.1), ('F-7', 'G-8', 5.3), ('F-7', 'G-9', 6.4), ('F-7', 'G-10', 8.5),\n",
    "    ('F-7', 'I-8', 8.4), ('F-7', 'I-9', 11.0), ('F-7', 'I-10', 12.0),\n",
    "    ('F-10', 'F-6', 9.3), ('F-10', 'F-7', 7.1), ('F-10', 'G-8', 5.7), ('F-10', 'G-9', 3.6), ('F-10', 'G-10', 3.7),\n",
    "    ('F-10', 'I-8', 9.6), ('F-10', 'I-9', 9.6), ('F-10', 'I-10', 11.0),\n",
    "    ('G-8', 'F-6', 7.2), ('G-8', 'F-7', 5.3), ('G-8', 'F-10', 5.7), ('G-8', 'G-9', 2.4), ('G-8', 'G-10', 5.3),\n",
    "    ('G-8', 'I-8', 6.5), ('G-8', 'I-9', 6.4), ('G-8', 'I-10', 7.9),\n",
    "    ('G-9', 'F-6', 8.2), ('G-9', 'F-7', 6.4), ('G-9', 'F-10', 3.6), ('G-9', 'G-8', 2.4), ('G-9', 'G-10', 2.6),\n",
    "    ('G-9', 'I-8', 6.3), ('G-9', 'I-9', 6.2), ('G-9', 'I-10', 7.7),\n",
    "    ('G-10', 'F-6', 10.0), ('G-10', 'F-7', 8.5), ('G-10', 'F-10', 3.7), ('G-10', 'G-8', 5.3), ('G-10', 'G-9', 2.6),\n",
    "    ('G-10', 'I-8', 10.0), ('G-10', 'I-9', 10.0), ('G-10', 'I-10', 9.8),\n",
    "    ('I-8', 'F-6', 10.0), ('I-8', 'F-7', 8.4), ('I-8', 'F-10', 9.6), ('I-8', 'G-8', 6.5), ('I-8', 'G-9', 6.3),\n",
    "    ('I-8', 'G-10', 10.0), ('I-8', 'I-9', 3.1), ('I-8', 'I-10', 5.9),\n",
    "    ('I-9', 'F-6', 12.0), ('I-9', 'F-7', 11.0), ('I-9', 'F-10', 9.6), ('I-9', 'G-8', 6.4), ('I-9', 'G-9', 6.2),\n",
    "    ('I-9', 'G-10', 10.0), ('I-9', 'I-8', 3.1), ('I-9', 'I-10', 1.7),\n",
    "    ('I-10', 'F-6', 14.0), ('I-10', 'F-7', 12.0), ('I-10', 'F-10', 11.0), ('I-10', 'G-8', 7.9), ('I-10', 'G-9', 7.7),\n",
    "    ('I-10', 'G-10', 9.8), ('I-10', 'I-8', 5.9), ('I-10', 'I-9', 1.7)\n",
    "]\n",
    "\n",
    "\n",
    "\n",
    "G.add_weighted_edges_from(edges)\n",
    "\n",
    "pos = nx.spring_layout(G)\n",
    "nx.draw(G, pos, with_labels=True, node_size=500, node_color='skyblue', font_weight='bold')\n",
    "edge_labels = {(u, v): d['weight'] for u, v, d in G.edges(data=True)}\n",
    "nx.draw_networkx_edge_labels(G, pos, edge_labels=edge_labels)\n",
    "plt.title('Graph of Markaz Locations with Distances')\n",
    "plt.show()\n"
   ]
  },
  {
   "cell_type": "code",
   "execution_count": 14,
   "id": "79e57aa8",
   "metadata": {},
   "outputs": [],
   "source": [
    "source = 'F-6'\n",
    "destination = 'I-10'"
   ]
  },
  {
   "cell_type": "code",
   "execution_count": 15,
   "id": "e841dffc",
   "metadata": {},
   "outputs": [],
   "source": [
    "def heuristic(node, destination, edge_distances):\n",
    "    if node == destination:\n",
    "        return 0 \n",
    "\n",
    "    if (node, destination) in edge_distances:\n",
    "        return edge_distances[(node, destination)]\n",
    "    elif (destination, node) in edge_distances:\n",
    "        return edge_distances[(destination, node)]\n",
    "    else:\n",
    "        return float('inf') \n"
   ]
  },
  {
   "cell_type": "markdown",
   "id": "d7fda2d0",
   "metadata": {},
   "source": [
    "<h2 style=\"color:orange\"><bold>1: A* Search<bold/></h2>"
   ]
  },
  {
   "cell_type": "code",
   "execution_count": 16,
   "id": "5d17875d",
   "metadata": {
    "scrolled": true
   },
   "outputs": [],
   "source": [
    "def astar_search(graph, start, goal, edge_distances):\n",
    "    frontier = [] \n",
    "    heapq.heappush(frontier, (0, start))  \n",
    "    came_from = {}\n",
    "    cost_so_far = {start: 0}\n",
    "    explored_nodes = 0\n",
    "\n",
    "    while frontier:\n",
    "        current_cost, current_node = heapq.heappop(frontier)\n",
    "        explored_nodes += 1\n",
    "\n",
    "        if current_node == goal:\n",
    "            path = []\n",
    "            while current_node != start:\n",
    "                path.append(current_node)\n",
    "                current_node = came_from[current_node]\n",
    "            path.append(start)\n",
    "            path.reverse()\n",
    "            return path, cost_so_far[goal], explored_nodes  \n",
    "\n",
    "        for neighbor in graph[current_node]:\n",
    "            weight = graph[current_node][neighbor]['weight']  \n",
    "            new_cost = cost_so_far[current_node] + weight\n",
    "            \n",
    "            if neighbor not in cost_so_far or new_cost < cost_so_far[neighbor]:\n",
    "                cost_so_far[neighbor] = new_cost\n",
    "                priority = new_cost + heuristic(neighbor, goal, edge_distances) \n",
    "                heapq.heappush(frontier, (priority, neighbor))\n",
    "                came_from[neighbor] = current_node\n",
    "\n",
    "    return None, float('inf')"
   ]
  },
  {
   "cell_type": "code",
   "execution_count": 17,
   "id": "6ed8192a",
   "metadata": {},
   "outputs": [
    {
     "name": "stdout",
     "output_type": "stream",
     "text": [
      "A* Search Path: ['F-6', 'I-10']\n",
      "Total cost (A*): 14.0\n",
      "Nodes explored (A*): 2\n"
     ]
    }
   ],
   "source": [
    "path_astar, total_cost_astar, explored_nodes_astar = astar_search(G, source, destination, edges)\n",
    "\n",
    "if path_astar:\n",
    "    print(\"A* Search Path:\", path_astar)\n",
    "    print(\"Total cost (A*):\", total_cost_astar)\n",
    "    print(\"Nodes explored (A*):\", explored_nodes_astar)\n",
    "else:\n",
    "    print(\"No path found using A* Search\")"
   ]
  },
  {
   "cell_type": "markdown",
   "id": "ecb134a8",
   "metadata": {},
   "source": [
    "<h2 style=\"color:orange\"><bold>2: Uniform Cost Search<bold/></h2>"
   ]
  },
  {
   "cell_type": "code",
   "execution_count": 18,
   "id": "c6d80d07",
   "metadata": {},
   "outputs": [],
   "source": [
    "def uniform_cost_search(graph, start, goal):\n",
    "    frontier = []  \n",
    "    heapq.heappush(frontier, (0, start)) \n",
    "    came_from = {}\n",
    "    cost_so_far = {start: 0}\n",
    "    explored_nodes = 0\n",
    "\n",
    "    while frontier:\n",
    "        current_cost, current_node = heapq.heappop(frontier)\n",
    "        explored_nodes += 1\n",
    "\n",
    "        if current_node == goal:\n",
    "            path = []\n",
    "            while current_node != start:\n",
    "                path.append(current_node)\n",
    "                current_node = came_from[current_node]\n",
    "            path.append(start)\n",
    "            path.reverse()\n",
    "            return path, cost_so_far[goal], explored_nodes  \n",
    "\n",
    "        for neighbor in graph[current_node]: \n",
    "            weight = graph[current_node][neighbor]['weight']  \n",
    "            new_cost = cost_so_far[current_node] + weight\n",
    "            \n",
    "            if neighbor not in cost_so_far or new_cost < cost_so_far[neighbor]:\n",
    "                cost_so_far[neighbor] = new_cost\n",
    "                heapq.heappush(frontier, (new_cost, neighbor))\n",
    "                came_from[neighbor] = current_node\n",
    "\n",
    "    return None, float('inf'), explored_nodes  "
   ]
  },
  {
   "cell_type": "code",
   "execution_count": 19,
   "id": "ff0235bd",
   "metadata": {},
   "outputs": [
    {
     "name": "stdout",
     "output_type": "stream",
     "text": [
      "Uniform Cost Search Path: ['F-6', 'I-9', 'I-10']\n",
      "Total cost (UCS): 13.7\n",
      "Nodes explored (UCS): 9\n"
     ]
    }
   ],
   "source": [
    "path_ucs, total_cost_ucs, explored_nodes_ucs = uniform_cost_search(G, source, destination)\n",
    "\n",
    "if path_ucs:\n",
    "    print(\"Uniform Cost Search Path:\", path_ucs)\n",
    "    print(\"Total cost (UCS):\", total_cost_ucs)\n",
    "    print(\"Nodes explored (UCS):\", explored_nodes_ucs)\n",
    "else:\n",
    "    print(\"No path found using Uniform Cost Search\")"
   ]
  },
  {
   "cell_type": "markdown",
   "id": "c85b9d7b",
   "metadata": {},
   "source": [
    "<h2 style=\"color:blue\">Analysis:</h2>\n",
    "\n",
    "<h3 style=\"color:purple\">1- A* Search Efficiency:</h3>\n",
    "\n",
    "<ol>\n",
    "    <li>A* search explored a total of 2 nodes to find the path with a total cost of 14.0 units.</li>\n",
    "<li>However, the total cost of the path found was slightly higher compared to UCS.</li>\n",
    "    </ol>\n",
    "<h3 style=\"color:purple\">2- Uniform Cost Search Efficiency:</h3>\n",
    "\n",
    "<ol>\n",
    "    <li>UCS explored a total of 9 nodes to find the path with a total cost of 13.7 units.</li>\n",
    "<li>Despite exploring more nodes, UCS found a path with a slightly lower total cost compared to A* search.</li>\n",
    "    </ol>\n",
    "\n",
    "<h2 style=\"color:blue\">Comparison:</h2>\n",
    "\n",
    "<p>A* Search explored significantly fewer nodes (2 nodes) compared to UCS (9 nodes) to find a path.\n",
    "However, UCS found a path with a slightly lower total cost (13.7 units) compared to A* search (14.0 units).</p>\n",
    "<h2 style=\"color:blue\">Conclusion:</h2>\n",
    "<p>In conclusion, both A* Search and UCS algorithms have their strengths and weaknesses. A* Search is more efficient in terms of the number of nodes explored due to its heuristic-guided approach, while UCS considers all possible paths leading to a lower-cost solution in this specific scenario. The choice between the two algorithms depends on the specific requirements of the problem: A* Search is beneficial for reducing the number of explored nodes, while UCS focuses on finding paths with lower total costs.</p>"
   ]
  },
  {
   "cell_type": "markdown",
   "id": "a8d08da3",
   "metadata": {},
   "source": [
    "<h3 style=\"color:purple\">Problem 3.</h3>\n",
    "<h4 style=\"color:green\">Transportation Problem</h4>\n",
    "<p>Consider the transportation problem with different number of blocks n. Prepare a labeled data set (at least 20 training examples) having problem instance as input and minimum cost path as target output (you can find the minimum cost path using running any search algorithm by assuming true parameter/action cost). Now assume that the action costs are unknown. Perform learning the cost function using structured perceptron.</p>"
   ]
  },
  {
   "cell_type": "code",
   "execution_count": 43,
   "id": "eeb6c78b",
   "metadata": {},
   "outputs": [],
   "source": [
    "def predict(N, weights):\n",
    "    problem = TransportationProblem(N, weights)\n",
    "    totalCost, history = dynamicProgramming(problem)\n",
    "    \n",
    "    if isinstance(history[0], str):\n",
    "        return history \n",
    "    else:\n",
    "        return [actions for actions, _, _ in history]  \n"
   ]
  },
  {
   "cell_type": "code",
   "execution_count": 44,
   "id": "0563bd2c",
   "metadata": {},
   "outputs": [],
   "source": [
    "def generateExamples():\n",
    "    trueWeights = {'walk': 1, 'jump':1.5, 'tram':2}\n",
    "    return [(N, predict(N, trueWeights)) for N in range(5,26)]"
   ]
  },
  {
   "cell_type": "code",
   "execution_count": 45,
   "id": "3581f270",
   "metadata": {},
   "outputs": [
    {
     "data": {
      "text/html": [
       "<div>\n",
       "<style scoped>\n",
       "    .dataframe tbody tr th:only-of-type {\n",
       "        vertical-align: middle;\n",
       "    }\n",
       "\n",
       "    .dataframe tbody tr th {\n",
       "        vertical-align: top;\n",
       "    }\n",
       "\n",
       "    .dataframe thead th {\n",
       "        text-align: right;\n",
       "    }\n",
       "</style>\n",
       "<table border=\"1\" class=\"dataframe\">\n",
       "  <thead>\n",
       "    <tr style=\"text-align: right;\">\n",
       "      <th></th>\n",
       "      <th>N</th>\n",
       "      <th>Path</th>\n",
       "    </tr>\n",
       "  </thead>\n",
       "  <tbody>\n",
       "    <tr>\n",
       "      <th>0</th>\n",
       "      <td>5</td>\n",
       "      <td>[jump, tram]</td>\n",
       "    </tr>\n",
       "    <tr>\n",
       "      <th>1</th>\n",
       "      <td>6</td>\n",
       "      <td>[walk, walk, tram]</td>\n",
       "    </tr>\n",
       "    <tr>\n",
       "      <th>2</th>\n",
       "      <td>7</td>\n",
       "      <td>[walk, jump, tram]</td>\n",
       "    </tr>\n",
       "    <tr>\n",
       "      <th>3</th>\n",
       "      <td>8</td>\n",
       "      <td>[walk, walk, walk, tram]</td>\n",
       "    </tr>\n",
       "    <tr>\n",
       "      <th>4</th>\n",
       "      <td>9</td>\n",
       "      <td>[walk, walk, jump, tram]</td>\n",
       "    </tr>\n",
       "    <tr>\n",
       "      <th>5</th>\n",
       "      <td>10</td>\n",
       "      <td>[jump, tram, tram]</td>\n",
       "    </tr>\n",
       "    <tr>\n",
       "      <th>6</th>\n",
       "      <td>11</td>\n",
       "      <td>[walk, walk, walk, jump, tram]</td>\n",
       "    </tr>\n",
       "    <tr>\n",
       "      <th>7</th>\n",
       "      <td>12</td>\n",
       "      <td>[walk, walk, tram, tram]</td>\n",
       "    </tr>\n",
       "    <tr>\n",
       "      <th>8</th>\n",
       "      <td>13</td>\n",
       "      <td>[walk, walk, tram, tram, walk]</td>\n",
       "    </tr>\n",
       "    <tr>\n",
       "      <th>9</th>\n",
       "      <td>14</td>\n",
       "      <td>[walk, jump, tram, tram]</td>\n",
       "    </tr>\n",
       "    <tr>\n",
       "      <th>10</th>\n",
       "      <td>15</td>\n",
       "      <td>[walk, walk, tram, jump, tram]</td>\n",
       "    </tr>\n",
       "    <tr>\n",
       "      <th>11</th>\n",
       "      <td>16</td>\n",
       "      <td>[walk, walk, walk, tram, tram]</td>\n",
       "    </tr>\n",
       "    <tr>\n",
       "      <th>12</th>\n",
       "      <td>17</td>\n",
       "      <td>[walk, walk, walk, tram, tram, walk]</td>\n",
       "    </tr>\n",
       "    <tr>\n",
       "      <th>13</th>\n",
       "      <td>18</td>\n",
       "      <td>[walk, walk, jump, tram, tram]</td>\n",
       "    </tr>\n",
       "    <tr>\n",
       "      <th>14</th>\n",
       "      <td>19</td>\n",
       "      <td>[walk, walk, walk, tram, jump, tram]</td>\n",
       "    </tr>\n",
       "    <tr>\n",
       "      <th>15</th>\n",
       "      <td>20</td>\n",
       "      <td>[jump, tram, tram, tram]</td>\n",
       "    </tr>\n",
       "    <tr>\n",
       "      <th>16</th>\n",
       "      <td>21</td>\n",
       "      <td>[jump, tram, tram, tram, walk]</td>\n",
       "    </tr>\n",
       "    <tr>\n",
       "      <th>17</th>\n",
       "      <td>22</td>\n",
       "      <td>[walk, walk, walk, jump, tram, tram]</td>\n",
       "    </tr>\n",
       "    <tr>\n",
       "      <th>18</th>\n",
       "      <td>23</td>\n",
       "      <td>[jump, tram, tram, jump, tram]</td>\n",
       "    </tr>\n",
       "    <tr>\n",
       "      <th>19</th>\n",
       "      <td>24</td>\n",
       "      <td>[walk, walk, tram, tram, tram]</td>\n",
       "    </tr>\n",
       "    <tr>\n",
       "      <th>20</th>\n",
       "      <td>25</td>\n",
       "      <td>[walk, walk, tram, tram, tram, walk]</td>\n",
       "    </tr>\n",
       "  </tbody>\n",
       "</table>\n",
       "</div>"
      ],
      "text/plain": [
       "     N                                  Path\n",
       "0    5                          [jump, tram]\n",
       "1    6                    [walk, walk, tram]\n",
       "2    7                    [walk, jump, tram]\n",
       "3    8              [walk, walk, walk, tram]\n",
       "4    9              [walk, walk, jump, tram]\n",
       "5   10                    [jump, tram, tram]\n",
       "6   11        [walk, walk, walk, jump, tram]\n",
       "7   12              [walk, walk, tram, tram]\n",
       "8   13        [walk, walk, tram, tram, walk]\n",
       "9   14              [walk, jump, tram, tram]\n",
       "10  15        [walk, walk, tram, jump, tram]\n",
       "11  16        [walk, walk, walk, tram, tram]\n",
       "12  17  [walk, walk, walk, tram, tram, walk]\n",
       "13  18        [walk, walk, jump, tram, tram]\n",
       "14  19  [walk, walk, walk, tram, jump, tram]\n",
       "15  20              [jump, tram, tram, tram]\n",
       "16  21        [jump, tram, tram, tram, walk]\n",
       "17  22  [walk, walk, walk, jump, tram, tram]\n",
       "18  23        [jump, tram, tram, jump, tram]\n",
       "19  24        [walk, walk, tram, tram, tram]\n",
       "20  25  [walk, walk, tram, tram, tram, walk]"
      ]
     },
     "execution_count": 45,
     "metadata": {},
     "output_type": "execute_result"
    }
   ],
   "source": [
    "import pandas as pd\n",
    "examples = generateExamples()\n",
    "df = pd.DataFrame(examples, columns=['N', 'Path'])\n",
    "df"
   ]
  },
  {
   "cell_type": "code",
   "execution_count": 46,
   "id": "ea27148e",
   "metadata": {},
   "outputs": [],
   "source": [
    "def structuredPreceptron(df):\n",
    "    weights = {'walk':0, 'jump':0, 'tram':0}\n",
    "    examples = df.values.tolist()\n",
    "    for t in range(100):\n",
    "        numMistakes = 0\n",
    "        for N, trueActions in examples:\n",
    "            predActions = predict(N, weights)\n",
    "            if predActions != trueActions:\n",
    "                numMistakes+=1\n",
    "            for action in trueActions:\n",
    "                weights[action] -= 1\n",
    "            for action in predActions:\n",
    "                weights[action] += 1\n",
    "        print('Iteration {}, numMistakes={}, weights={}'.format(t, numMistakes, weights))\n",
    "        if numMistakes == 0:\n",
    "            break"
   ]
  },
  {
   "cell_type": "code",
   "execution_count": 47,
   "id": "505d47ae",
   "metadata": {},
   "outputs": [
    {
     "name": "stdout",
     "output_type": "stream",
     "text": [
      "Iteration 0, numMistakes=15, weights={'walk': 3, 'jump': 5, 'tram': 4}\n",
      "Iteration 1, numMistakes=11, weights={'walk': 3, 'jump': 9, 'tram': 4}\n",
      "Iteration 2, numMistakes=10, weights={'walk': 4, 'jump': 7, 'tram': 8}\n",
      "Iteration 3, numMistakes=0, weights={'walk': 4, 'jump': 7, 'tram': 8}\n"
     ]
    }
   ],
   "source": [
    "structuredPreceptron(df)"
   ]
  },
  {
   "cell_type": "markdown",
   "id": "6fab7924",
   "metadata": {},
   "source": [
    "<br>"
   ]
  },
  {
   "cell_type": "markdown",
   "id": "e238912b",
   "metadata": {},
   "source": [
    "<h3 style=\"color:purple\"><bold>Nasir Hussain</bold></h3>\n",
    "<h3 style=\"color:purple\"><bold>04072013040</bold></h3>\n",
    "<h3 style=\"color:purple\"><bold>BSCS VII</bold></h3>"
   ]
  }
 ],
 "metadata": {
  "kernelspec": {
   "display_name": "Python 3 (ipykernel)",
   "language": "python",
   "name": "python3"
  },
  "language_info": {
   "codemirror_mode": {
    "name": "ipython",
    "version": 3
   },
   "file_extension": ".py",
   "mimetype": "text/x-python",
   "name": "python",
   "nbconvert_exporter": "python",
   "pygments_lexer": "ipython3",
   "version": "3.10.8"
  }
 },
 "nbformat": 4,
 "nbformat_minor": 5
}
